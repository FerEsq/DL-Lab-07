{
  "cells": [
    {
      "cell_type": "markdown",
      "metadata": {
        "id": "37SOve-Ls4gz"
      },
      "source": [
        "# Lab 7. Análisis de Redes Sociales\n",
        "\n",
        "## Miembros\n",
        "- Fernanda Esquivel 21542\n",
        "- Sofía Lam 21548\n",
        "\n",
        "## Link al repositorio\n",
        "El repositorio puede ser visualizado [acá](https://github.com/FerEsq/DS-Lab-07.git)\n"
      ]
    }
  ],
  "metadata": {
    "colab": {
      "provenance": []
    },
    "kernelspec": {
      "display_name": "Python 3",
      "name": "python3"
    },
    "language_info": {
      "codemirror_mode": {
        "name": "ipython",
        "version": 3
      },
      "file_extension": ".py",
      "mimetype": "text/x-python",
      "name": "python",
      "nbconvert_exporter": "python",
      "pygments_lexer": "ipython3",
      "version": "3.10.11"
    }
  },
  "nbformat": 4,
  "nbformat_minor": 0
}
